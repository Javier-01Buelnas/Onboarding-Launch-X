{
 "cells": [
  {
   "cell_type": "markdown",
   "metadata": {},
   "source": [
    "# Ejercicio 1"
   ]
  },
  {
   "cell_type": "code",
   "execution_count": null,
   "metadata": {},
   "outputs": [],
   "source": [
    "def average(values):\n",
    "    total = sum(values)\n",
    "    items = len(values)\n",
    "    return total / items\n",
    "\n",
    "def read_fuel(tanque1, tanque2, tanque3):\n",
    "    return f\"\"\"Reporte de combustible:\n",
    "    Tanque 1: {tanque1}%\n",
    "    Tanque 2: {tanque2}%\n",
    "    Tanque 3: {tanque3}% \n",
    "    Promedio: {average([tanque1, tanque2, tanque3])}%\n",
    "    \"\"\"\n",
    "\n",
    "print(read_fuel(74, 34,65))"
   ]
  },
  {
   "cell_type": "markdown",
   "metadata": {},
   "source": [
    "# Ejercicio 2"
   ]
  },
  {
   "cell_type": "code",
   "execution_count": 14,
   "metadata": {},
   "outputs": [
    {
     "name": "stdout",
     "output_type": "stream",
     "text": [
      "\n",
      "    Viaje a Marte\n",
      "    Tiempo de vuelo: 600000 minutos\n",
      "    Combustuble: 300000 gallones\n",
      "    \n",
      "Fuel Report:\n",
      "    Total Average: 78.0%\n",
      "    Main tank: 88%\n",
      "    External tank: 76%\n",
      "    Hydrogen tank: 70% \n",
      "    \n"
     ]
    }
   ],
   "source": [
    "def rocket(time, fuel, destination):\n",
    "    return f\"\"\"\n",
    "    Viaje a {destination}\n",
    "    Tiempo de vuelo: {time} minutos\n",
    "    Combustuble: {fuel} gallones\n",
    "    \"\"\"\n",
    "\n",
    "print(rocket(600000, 300000, \"Marte\"))\n"
   ]
  }
 ],
 "metadata": {
  "interpreter": {
   "hash": "d9af94fa3f53289e9b40da306142eacaa19dcbfc76f57ac70901f33df9e4395b"
  },
  "kernelspec": {
   "display_name": "Python 3.10.2 64-bit",
   "language": "python",
   "name": "python3"
  },
  "language_info": {
   "codemirror_mode": {
    "name": "ipython",
    "version": 3
   },
   "file_extension": ".py",
   "mimetype": "text/x-python",
   "name": "python",
   "nbconvert_exporter": "python",
   "pygments_lexer": "ipython3",
   "version": "3.10.2"
  },
  "orig_nbformat": 4
 },
 "nbformat": 4,
 "nbformat_minor": 2
}
